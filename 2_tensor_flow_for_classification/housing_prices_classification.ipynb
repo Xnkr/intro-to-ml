{
 "cells": [
  {
   "cell_type": "code",
   "execution_count": 35,
   "metadata": {
    "collapsed": false
   },
   "outputs": [],
   "source": [
    "%matplotlib inline\n",
    "import tensorflow as tf\n",
    "import pandas as pd\n",
    "import numpy as np\n",
    "import matplotlib.pyplot as plt"
   ]
  },
  {
   "cell_type": "code",
   "execution_count": 36,
   "metadata": {
    "collapsed": false,
    "scrolled": true
   },
   "outputs": [
    {
     "data": {
      "text/html": [
       "<div>\n",
       "<table border=\"1\" class=\"dataframe\">\n",
       "  <thead>\n",
       "    <tr style=\"text-align: right;\">\n",
       "      <th></th>\n",
       "      <th>area</th>\n",
       "      <th>bathrooms</th>\n",
       "    </tr>\n",
       "  </thead>\n",
       "  <tbody>\n",
       "    <tr>\n",
       "      <th>0</th>\n",
       "      <td>2104.0</td>\n",
       "      <td>3.0</td>\n",
       "    </tr>\n",
       "    <tr>\n",
       "      <th>1</th>\n",
       "      <td>1600.0</td>\n",
       "      <td>3.0</td>\n",
       "    </tr>\n",
       "    <tr>\n",
       "      <th>2</th>\n",
       "      <td>2400.0</td>\n",
       "      <td>3.0</td>\n",
       "    </tr>\n",
       "    <tr>\n",
       "      <th>3</th>\n",
       "      <td>1416.0</td>\n",
       "      <td>2.0</td>\n",
       "    </tr>\n",
       "    <tr>\n",
       "      <th>4</th>\n",
       "      <td>3000.0</td>\n",
       "      <td>4.0</td>\n",
       "    </tr>\n",
       "    <tr>\n",
       "      <th>5</th>\n",
       "      <td>1985.0</td>\n",
       "      <td>4.0</td>\n",
       "    </tr>\n",
       "    <tr>\n",
       "      <th>6</th>\n",
       "      <td>1534.0</td>\n",
       "      <td>3.0</td>\n",
       "    </tr>\n",
       "    <tr>\n",
       "      <th>7</th>\n",
       "      <td>1427.0</td>\n",
       "      <td>3.0</td>\n",
       "    </tr>\n",
       "    <tr>\n",
       "      <th>8</th>\n",
       "      <td>1380.0</td>\n",
       "      <td>3.0</td>\n",
       "    </tr>\n",
       "    <tr>\n",
       "      <th>9</th>\n",
       "      <td>1494.0</td>\n",
       "      <td>3.0</td>\n",
       "    </tr>\n",
       "  </tbody>\n",
       "</table>\n",
       "</div>"
      ],
      "text/plain": [
       "     area  bathrooms\n",
       "0  2104.0        3.0\n",
       "1  1600.0        3.0\n",
       "2  2400.0        3.0\n",
       "3  1416.0        2.0\n",
       "4  3000.0        4.0\n",
       "5  1985.0        4.0\n",
       "6  1534.0        3.0\n",
       "7  1427.0        3.0\n",
       "8  1380.0        3.0\n",
       "9  1494.0        3.0"
      ]
     },
     "execution_count": 36,
     "metadata": {},
     "output_type": "execute_result"
    }
   ],
   "source": [
    "# Load data\n",
    "dataframe = pd.read_csv('data.csv')\n",
    "# Remove unnecessary features\n",
    "dataframe = dataframe.drop(['index', 'price', 'sq_price'], axis =1)\n",
    "dataframe = dataframe[0:10]\n",
    "dataframe"
   ]
  },
  {
   "cell_type": "code",
   "execution_count": 37,
   "metadata": {
    "collapsed": false
   },
   "outputs": [
    {
     "data": {
      "text/html": [
       "<div>\n",
       "<table border=\"1\" class=\"dataframe\">\n",
       "  <thead>\n",
       "    <tr style=\"text-align: right;\">\n",
       "      <th></th>\n",
       "      <th>area</th>\n",
       "      <th>bathrooms</th>\n",
       "      <th>y1</th>\n",
       "      <th>y2</th>\n",
       "    </tr>\n",
       "  </thead>\n",
       "  <tbody>\n",
       "    <tr>\n",
       "      <th>0</th>\n",
       "      <td>2104.0</td>\n",
       "      <td>3.0</td>\n",
       "      <td>1</td>\n",
       "      <td>0</td>\n",
       "    </tr>\n",
       "    <tr>\n",
       "      <th>1</th>\n",
       "      <td>1600.0</td>\n",
       "      <td>3.0</td>\n",
       "      <td>1</td>\n",
       "      <td>0</td>\n",
       "    </tr>\n",
       "    <tr>\n",
       "      <th>2</th>\n",
       "      <td>2400.0</td>\n",
       "      <td>3.0</td>\n",
       "      <td>1</td>\n",
       "      <td>0</td>\n",
       "    </tr>\n",
       "    <tr>\n",
       "      <th>3</th>\n",
       "      <td>1416.0</td>\n",
       "      <td>2.0</td>\n",
       "      <td>0</td>\n",
       "      <td>1</td>\n",
       "    </tr>\n",
       "    <tr>\n",
       "      <th>4</th>\n",
       "      <td>3000.0</td>\n",
       "      <td>4.0</td>\n",
       "      <td>0</td>\n",
       "      <td>1</td>\n",
       "    </tr>\n",
       "    <tr>\n",
       "      <th>5</th>\n",
       "      <td>1985.0</td>\n",
       "      <td>4.0</td>\n",
       "      <td>1</td>\n",
       "      <td>0</td>\n",
       "    </tr>\n",
       "    <tr>\n",
       "      <th>6</th>\n",
       "      <td>1534.0</td>\n",
       "      <td>3.0</td>\n",
       "      <td>0</td>\n",
       "      <td>1</td>\n",
       "    </tr>\n",
       "    <tr>\n",
       "      <th>7</th>\n",
       "      <td>1427.0</td>\n",
       "      <td>3.0</td>\n",
       "      <td>1</td>\n",
       "      <td>0</td>\n",
       "    </tr>\n",
       "    <tr>\n",
       "      <th>8</th>\n",
       "      <td>1380.0</td>\n",
       "      <td>3.0</td>\n",
       "      <td>1</td>\n",
       "      <td>0</td>\n",
       "    </tr>\n",
       "    <tr>\n",
       "      <th>9</th>\n",
       "      <td>1494.0</td>\n",
       "      <td>3.0</td>\n",
       "      <td>1</td>\n",
       "      <td>0</td>\n",
       "    </tr>\n",
       "  </tbody>\n",
       "</table>\n",
       "</div>"
      ],
      "text/plain": [
       "     area  bathrooms  y1  y2\n",
       "0  2104.0        3.0   1   0\n",
       "1  1600.0        3.0   1   0\n",
       "2  2400.0        3.0   1   0\n",
       "3  1416.0        2.0   0   1\n",
       "4  3000.0        4.0   0   1\n",
       "5  1985.0        4.0   1   0\n",
       "6  1534.0        3.0   0   1\n",
       "7  1427.0        3.0   1   0\n",
       "8  1380.0        3.0   1   0\n",
       "9  1494.0        3.0   1   0"
      ]
     },
     "execution_count": 37,
     "metadata": {},
     "output_type": "execute_result"
    }
   ],
   "source": [
    "# Add labels\n",
    "dataframe.loc[:,('y1')] = [1,1,1,0,0,1,0,1,1,1]\n",
    "dataframe.loc[:,('y2')] = dataframe['y1'] == 0\n",
    "dataframe.loc[:,('y2')] = dataframe['y2'].astype(int)\n",
    "dataframe"
   ]
  },
  {
   "cell_type": "code",
   "execution_count": 38,
   "metadata": {
    "collapsed": false,
    "scrolled": true
   },
   "outputs": [
    {
     "data": {
      "text/plain": [
       "(array([[  2.10400000e+03,   3.00000000e+00],\n",
       "        [  1.60000000e+03,   3.00000000e+00],\n",
       "        [  2.40000000e+03,   3.00000000e+00],\n",
       "        [  1.41600000e+03,   2.00000000e+00],\n",
       "        [  3.00000000e+03,   4.00000000e+00],\n",
       "        [  1.98500000e+03,   4.00000000e+00],\n",
       "        [  1.53400000e+03,   3.00000000e+00],\n",
       "        [  1.42700000e+03,   3.00000000e+00],\n",
       "        [  1.38000000e+03,   3.00000000e+00],\n",
       "        [  1.49400000e+03,   3.00000000e+00]]), array([[1, 0],\n",
       "        [1, 0],\n",
       "        [1, 0],\n",
       "        [0, 1],\n",
       "        [0, 1],\n",
       "        [1, 0],\n",
       "        [0, 1],\n",
       "        [1, 0],\n",
       "        [1, 0],\n",
       "        [1, 0]]))"
      ]
     },
     "execution_count": 38,
     "metadata": {},
     "output_type": "execute_result"
    }
   ],
   "source": [
    "# Prepare data for tensorflow\n",
    "inputX = dataframe.loc[:,['area','bathrooms']].as_matrix()\n",
    "inputY = dataframe.loc[:,['y1','y2']].as_matrix()\n",
    "inputX,inputY"
   ]
  },
  {
   "cell_type": "code",
   "execution_count": 60,
   "metadata": {
    "collapsed": false
   },
   "outputs": [
    {
     "data": {
      "text/plain": [
       "20"
      ]
     },
     "execution_count": 60,
     "metadata": {},
     "output_type": "execute_result"
    }
   ],
   "source": [
    "# Hyperparameters\n",
    "learning_rate = 0.000001\n",
    "training_epochs = 2000\n",
    "display_step = 50\n",
    "n_samples = inputY.size\n",
    "n_samples"
   ]
  },
  {
   "cell_type": "code",
   "execution_count": 61,
   "metadata": {
    "collapsed": false
   },
   "outputs": [],
   "source": [
    "# Create computation graph/Neural network\n",
    "# None - Generic length of samples\n",
    "# 2 - Number of features\n",
    "x = tf.placeholder(tf.float32, [None,2])\n",
    "\n",
    "# Create weights\n",
    "W = tf.Variable(tf.zeros([2,2]))\n",
    "\n",
    "# Add biases\n",
    "b = tf.Variable(tf.zeros([2]))\n",
    "\n",
    "# Multiply weights by inputs and add biases\n",
    "y_values = tf.add(tf.matmul(x, W), b)\n",
    "\n",
    "# Apply softmax\n",
    "y = tf.nn.softmax(y_values)\n",
    "\n",
    "# Feed in a matrix of labels\n",
    "y_ = tf.placeholder(tf.float32, [None,2])"
   ]
  },
  {
   "cell_type": "code",
   "execution_count": 62,
   "metadata": {
    "collapsed": false
   },
   "outputs": [],
   "source": [
    "# Perform training\n",
    "cost = tf.reduce_sum(tf.pow(y_ - y,2))/(2*n_samples) \n",
    "\n",
    "# Gradient Descent\n",
    "optimizer = tf.train.GradientDescentOptimizer(learning_rate).minimize(cost)"
   ]
  },
  {
   "cell_type": "code",
   "execution_count": 63,
   "metadata": {
    "collapsed": false
   },
   "outputs": [],
   "source": [
    "# Initialize variables and tensorflow session\n",
    "\n",
    "init = tf.global_variables_initializer()\n",
    "sess = tf.Session()\n",
    "sess.run(init)"
   ]
  },
  {
   "cell_type": "code",
   "execution_count": 64,
   "metadata": {
    "collapsed": false
   },
   "outputs": [
    {
     "name": "stdout",
     "output_type": "stream",
     "text": [
      "Training step: 0000 Cost = 0.114958666\n",
      "Training step: 0050 Cost = 0.109539941\n",
      "Training step: 0100 Cost = 0.109539866\n",
      "Training step: 0150 Cost = 0.109539807\n",
      "Training step: 0200 Cost = 0.109539732\n",
      "Training step: 0250 Cost = 0.109539673\n",
      "Training step: 0300 Cost = 0.109539606\n",
      "Training step: 0350 Cost = 0.109539531\n",
      "Training step: 0400 Cost = 0.109539464\n",
      "Training step: 0450 Cost = 0.109539405\n",
      "Training step: 0500 Cost = 0.109539315\n",
      "Training step: 0550 Cost = 0.109539248\n",
      "Training step: 0600 Cost = 0.109539196\n",
      "Training step: 0650 Cost = 0.109539129\n",
      "Training step: 0700 Cost = 0.109539054\n",
      "Training step: 0750 Cost = 0.109538987\n",
      "Training step: 0800 Cost = 0.109538913\n",
      "Training step: 0850 Cost = 0.109538853\n",
      "Training step: 0900 Cost = 0.109538779\n",
      "Training step: 0950 Cost = 0.109538712\n",
      "Training step: 1000 Cost = 0.109538652\n",
      "Training step: 1050 Cost = 0.109538577\n",
      "Training step: 1100 Cost = 0.109538510\n",
      "Training step: 1150 Cost = 0.109538436\n",
      "Training step: 1200 Cost = 0.109538361\n",
      "Training step: 1250 Cost = 0.109538302\n",
      "Training step: 1300 Cost = 0.109538235\n",
      "Training step: 1350 Cost = 0.109538175\n",
      "Training step: 1400 Cost = 0.109538101\n",
      "Training step: 1450 Cost = 0.109538034\n",
      "Training step: 1500 Cost = 0.109537959\n",
      "Training step: 1550 Cost = 0.109537885\n",
      "Training step: 1600 Cost = 0.109537825\n",
      "Training step: 1650 Cost = 0.109537765\n",
      "Training step: 1700 Cost = 0.109537683\n",
      "Training step: 1750 Cost = 0.109537624\n",
      "Training step: 1800 Cost = 0.109537557\n",
      "Training step: 1850 Cost = 0.109537482\n",
      "Training step: 1900 Cost = 0.109537408\n",
      "Training step: 1950 Cost = 0.109537348\n",
      "Optimization finished\n",
      "Training cost = 0.109537 W=  [[  2.14149564e-04  -2.14149914e-04]\n",
      " [  5.12748193e-05  -5.12747974e-05]] b=  [  1.19155184e-05  -1.19155284e-05] \n",
      "\n"
     ]
    }
   ],
   "source": [
    "# Training loop\n",
    "for i in range(training_epochs):\n",
    "    sess.run(optimizer, feed_dict ={x:inputX, y_:inputY})\n",
    "    \n",
    "    # Write logs of training\n",
    "    if i % display_step == 0:\n",
    "        cc = sess.run(cost, feed_dict = {x: inputX, y_ :inputY})\n",
    "        print \"Training step:\", '%04d' %(i), \"Cost =\", '{:.9f}'.format(cc)\n",
    "\n",
    "print \"Optimization finished\"\n",
    "training_cost = sess.run(cost, feed_dict = {x:inputX, y_:inputY})\n",
    "print \"Training cost =\", training_cost, \"W= \", sess.run(W), \"b= \",sess.run(b),\"\\n\""
   ]
  },
  {
   "cell_type": "code",
   "execution_count": 65,
   "metadata": {
    "collapsed": false
   },
   "outputs": [
    {
     "data": {
      "text/plain": [
       "array([[ 0.71125221,  0.28874779],\n",
       "       [ 0.66498977,  0.33501023],\n",
       "       [ 0.73657656,  0.26342347],\n",
       "       [ 0.64718789,  0.35281211],\n",
       "       [ 0.78335613,  0.2166439 ],\n",
       "       [ 0.70069474,  0.29930523],\n",
       "       [ 0.65866327,  0.34133676],\n",
       "       [ 0.64828628,  0.35171372],\n",
       "       [ 0.64368278,  0.35631716],\n",
       "       [ 0.65480113,  0.3451989 ]], dtype=float32)"
      ]
     },
     "execution_count": 65,
     "metadata": {},
     "output_type": "execute_result"
    }
   ],
   "source": [
    "sess.run(y, feed_dict = {x: inputX})"
   ]
  },
  {
   "cell_type": "code",
   "execution_count": null,
   "metadata": {
    "collapsed": true
   },
   "outputs": [],
   "source": []
  }
 ],
 "metadata": {
  "kernelspec": {
   "display_name": "Python 2",
   "language": "python",
   "name": "python2"
  },
  "language_info": {
   "codemirror_mode": {
    "name": "ipython",
    "version": 2
   },
   "file_extension": ".py",
   "mimetype": "text/x-python",
   "name": "python",
   "nbconvert_exporter": "python",
   "pygments_lexer": "ipython2",
   "version": "2.7.13"
  }
 },
 "nbformat": 4,
 "nbformat_minor": 2
}
