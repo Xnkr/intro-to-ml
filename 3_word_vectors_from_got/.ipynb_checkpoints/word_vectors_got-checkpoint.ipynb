{
 "cells": [
  {
   "cell_type": "code",
   "execution_count": null,
   "metadata": {
    "collapsed": false
   },
   "outputs": [],
   "source": [
    "# Bridge between Py2 and Py3\n",
    "from __future__ import absolute_import, division, print_function\n",
    "# Word encoding\n",
    "import codecs\n",
    "# Regex\n",
    "import glob\n",
    "# Concurrency - Multithreading\n",
    "import multiprocessing\n",
    "# OS\n",
    "import os\n",
    "# Pretty printing\n",
    "import pprint\n",
    "# Regular expression\n",
    "import re\n",
    "# NLP toolkit\n",
    "import nltk\n",
    "# Word to vec\n",
    "import gensim.models.word2vec as w2v\n",
    "# Dimensionality reduction \n",
    "import sklearn.manifold\n",
    "# Math\n",
    "import numpy as np\n",
    "# Plotting\n",
    "import matplotlib.pyplot as plt\n",
    "# Pandas\n",
    "import pandas as pd\n",
    "# Visualization\n",
    "import seaborn as sns"
   ]
  },
  {
   "cell_type": "code",
   "execution_count": null,
   "metadata": {
    "collapsed": true
   },
   "outputs": [],
   "source": []
  }
 ],
 "metadata": {
  "kernelspec": {
   "display_name": "Python 2",
   "language": "python",
   "name": "python2"
  },
  "language_info": {
   "codemirror_mode": {
    "name": "ipython",
    "version": 2
   },
   "file_extension": ".py",
   "mimetype": "text/x-python",
   "name": "python",
   "nbconvert_exporter": "python",
   "pygments_lexer": "ipython2",
   "version": "2.7.13"
  }
 },
 "nbformat": 4,
 "nbformat_minor": 2
}
